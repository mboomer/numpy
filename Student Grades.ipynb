{
 "cells": [
  {
   "cell_type": "markdown",
   "metadata": {},
   "source": [
    "Explore what we have learned with the practical example of a list of student grades"
   ]
  },
  {
   "cell_type": "code",
   "execution_count": 1,
   "metadata": {},
   "outputs": [],
   "source": [
    "import numpy as np"
   ]
  },
  {
   "cell_type": "code",
   "execution_count": 2,
   "metadata": {},
   "outputs": [
    {
     "name": "stdout",
     "output_type": "stream",
     "text": [
      "[56 78 98 90 58 64 67 72 93 51]\n"
     ]
    }
   ],
   "source": [
    "student_grades = np.array([56, 78, 98, 90, 58, 64, 67, 72, 93, 51])\n",
    "print(student_grades)"
   ]
  },
  {
   "cell_type": "code",
   "execution_count": 3,
   "metadata": {},
   "outputs": [
    {
     "name": "stdout",
     "output_type": "stream",
     "text": [
      "72.7\n"
     ]
    }
   ],
   "source": [
    "class_average = np.average(student_grades)\n",
    "print(class_average)"
   ]
  },
  {
   "cell_type": "code",
   "execution_count": 7,
   "metadata": {},
   "outputs": [
    {
     "name": "stdout",
     "output_type": "stream",
     "text": [
      "98\n",
      "51\n"
     ]
    }
   ],
   "source": [
    "# highest grade in class\n",
    "highest_grade = np.max(student_grades)\n",
    "print(highest_grade)\n",
    "#lowest grade in clasee\n",
    "lowest_grade = np.min(student_grades)\n",
    "print(lowest_grade)"
   ]
  },
  {
   "cell_type": "code",
   "execution_count": 10,
   "metadata": {},
   "outputs": [
    {
     "name": "stdout",
     "output_type": "stream",
     "text": [
      "2\n",
      "9\n"
     ]
    }
   ],
   "source": [
    "# argmax is the index of the max value - so where in the array does the max value sit\n",
    "print(np.argmax(student_grades))\n",
    "# argmax is the index of the min value  - so where in the array does the min value sit\n",
    "print(np.argmin(student_grades))"
   ]
  },
  {
   "cell_type": "code",
   "execution_count": 9,
   "metadata": {},
   "outputs": [
    {
     "name": "stdout",
     "output_type": "stream",
     "text": [
      "[51 56 58 64 67 72 78 90 93 98]\n",
      "[98 93 90 78 72 67 64 58 56 51]\n"
     ]
    }
   ],
   "source": [
    "print(np.sort(student_grades))\n",
    "print(-np.sort(-student_grades))"
   ]
  },
  {
   "cell_type": "code",
   "execution_count": 12,
   "metadata": {},
   "outputs": [
    {
     "name": "stdout",
     "output_type": "stream",
     "text": [
      "[ 61.6  85.8 107.8  99.   63.8  70.4  73.7  79.2 102.3  56.1]\n"
     ]
    }
   ],
   "source": [
    "inc_grades = student_grades * 1.1\n",
    "print (inc_grades)"
   ]
  },
  {
   "cell_type": "code",
   "execution_count": 13,
   "metadata": {},
   "outputs": [
    {
     "name": "stdout",
     "output_type": "stream",
     "text": [
      "[ 61  83 103  95  63  69  72  77  98  56]\n"
     ]
    }
   ],
   "source": [
    "increased_grades = student_grades + 5\n",
    "print(increased_grades)"
   ]
  },
  {
   "cell_type": "code",
   "execution_count": 14,
   "metadata": {},
   "outputs": [
    {
     "name": "stdout",
     "output_type": "stream",
     "text": [
      "[51 56 58 64 67 72 78 90 93 98]\n",
      "[98 93 90 78 72 67 64 58 56 51]\n"
     ]
    }
   ],
   "source": [
    "print(np.sort(student_grades))\n",
    "print(-np.sort(-student_grades))"
   ]
  },
  {
   "cell_type": "code",
   "execution_count": 17,
   "metadata": {},
   "outputs": [
    {
     "name": "stdout",
     "output_type": "stream",
     "text": [
      "[ 57  80 101  94  63  70  74  80 102  61]\n"
     ]
    }
   ],
   "source": [
    "# add value in np.array to the corresponding element in student grades\n",
    "print(\n",
    "    np.add(\n",
    "        student_grades, np.array([1,2,3,4,5,6,7,8,9,10])\n",
    "    )\n",
    ")"
   ]
  },
  {
   "cell_type": "code",
   "execution_count": 20,
   "metadata": {},
   "outputs": [
    {
     "name": "stdout",
     "output_type": "stream",
     "text": [
      "[56 78 98 90 58 64 67 72 93 51]\n",
      "[57. 79. 99. 91. 59. 65. 68. 73. 94. 52.]\n"
     ]
    }
   ],
   "source": [
    "# add 1 to the corresponding element in student grades\n",
    "print(student_grades)\n",
    "print(\n",
    "    np.add(\n",
    "        student_grades, np.ones([10])\n",
    "    )\n",
    ")"
   ]
  }
 ],
 "metadata": {
  "kernelspec": {
   "display_name": "Python 3",
   "language": "python",
   "name": "python3"
  },
  "language_info": {
   "codemirror_mode": {
    "name": "ipython",
    "version": 3
   },
   "file_extension": ".py",
   "mimetype": "text/x-python",
   "name": "python",
   "nbconvert_exporter": "python",
   "pygments_lexer": "ipython3",
   "version": "3.7.6"
  }
 },
 "nbformat": 4,
 "nbformat_minor": 4
}

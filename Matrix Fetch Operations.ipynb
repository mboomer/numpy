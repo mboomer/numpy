{
 "cells": [
  {
   "cell_type": "markdown",
   "metadata": {},
   "source": [
    "# Functions to get elements or properties of matrices"
   ]
  },
  {
   "cell_type": "code",
   "execution_count": 1,
   "metadata": {},
   "outputs": [],
   "source": [
    "import numpy as np"
   ]
  },
  {
   "cell_type": "code",
   "execution_count": 2,
   "metadata": {},
   "outputs": [
    {
     "name": "stdout",
     "output_type": "stream",
     "text": [
      "[[1 2 3]\n",
      " [4 5 6]\n",
      " [7 8 9]]\n"
     ]
    }
   ],
   "source": [
    "a_matrix = np.matrix(\n",
    "                     [\n",
    "                         [1, 2, 3], \n",
    "                         [4, 5, 6], \n",
    "                         [7, 8, 9]\n",
    "                     ])\n",
    "print(a_matrix)"
   ]
  },
  {
   "cell_type": "code",
   "execution_count": 7,
   "metadata": {},
   "outputs": [
    {
     "name": "stdout",
     "output_type": "stream",
     "text": [
      "# -------------------------------------- #\n",
      "[[1 2 3]]\n",
      "# -------------------------------------- #\n",
      "[[4 5 6]]\n",
      "# -------------------------------------- #\n",
      "[[7 8 9]]\n",
      "# -------------------------------------- #\n"
     ]
    }
   ],
   "source": [
    "print(\"# -------------------------------------- #\")\n",
    "print(a_matrix[0])\n",
    "print(\"# -------------------------------------- #\")\n",
    "print(a_matrix[1])\n",
    "print(\"# -------------------------------------- #\")\n",
    "print(a_matrix[2])\n",
    "print(\"# -------------------------------------- #\")"
   ]
  },
  {
   "cell_type": "code",
   "execution_count": 14,
   "metadata": {},
   "outputs": [
    {
     "name": "stdout",
     "output_type": "stream",
     "text": [
      "2\n",
      "9\n",
      "4\n"
     ]
    }
   ],
   "source": [
    "# print value in 1st array, 2nd position\n",
    "print(a_matrix[0,1])\n",
    "# print value in 3rd array, 3rd position\n",
    "print(a_matrix[2,2])\n",
    "# print value in 2nd array, 1st position\n",
    "print(a_matrix[1,0])"
   ]
  },
  {
   "cell_type": "code",
   "execution_count": 15,
   "metadata": {},
   "outputs": [
    {
     "name": "stdout",
     "output_type": "stream",
     "text": [
      "9\n"
     ]
    }
   ],
   "source": [
    "# what size is the matrix 3 x 3 = 9\n",
    "print(a_matrix.size)"
   ]
  },
  {
   "cell_type": "code",
   "execution_count": 16,
   "metadata": {},
   "outputs": [
    {
     "name": "stdout",
     "output_type": "stream",
     "text": [
      "(3, 3)\n"
     ]
    }
   ],
   "source": [
    "# what shape is the matrix 3 x 3\n",
    "print(a_matrix.shape)"
   ]
  },
  {
   "cell_type": "code",
   "execution_count": 17,
   "metadata": {},
   "outputs": [
    {
     "name": "stdout",
     "output_type": "stream",
     "text": [
      "9\n",
      "1\n",
      "5.0\n"
     ]
    }
   ],
   "source": [
    "print(np.amax(a_matrix))                # whats the max value 9\n",
    "print(np.amin(a_matrix))                # whats the min value 1\n",
    "print(np.average(a_matrix))             # whats the average   5"
   ]
  },
  {
   "cell_type": "code",
   "execution_count": 20,
   "metadata": {},
   "outputs": [
    {
     "name": "stdout",
     "output_type": "stream",
     "text": [
      "9\n",
      "1\n",
      "5.0\n"
     ]
    }
   ],
   "source": [
    "print(a_matrix.max())                   # the max value = 9\n",
    "print(a_matrix.min())                   # the min value = 1\n",
    "print(a_matrix.mean())                  # the mean/average = 5"
   ]
  },
  {
   "cell_type": "code",
   "execution_count": null,
   "metadata": {},
   "outputs": [],
   "source": []
  }
 ],
 "metadata": {
  "kernelspec": {
   "display_name": "Python 3",
   "language": "python",
   "name": "python3"
  },
  "language_info": {
   "codemirror_mode": {
    "name": "ipython",
    "version": 3
   },
   "file_extension": ".py",
   "mimetype": "text/x-python",
   "name": "python",
   "nbconvert_exporter": "python",
   "pygments_lexer": "ipython3",
   "version": "3.7.6"
  }
 },
 "nbformat": 4,
 "nbformat_minor": 4
}

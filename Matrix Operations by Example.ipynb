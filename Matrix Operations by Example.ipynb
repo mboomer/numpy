{
 "cells": [
  {
   "cell_type": "markdown",
   "metadata": {},
   "source": [
    "# Example of matrices in action - images"
   ]
  },
  {
   "cell_type": "code",
   "execution_count": 1,
   "metadata": {},
   "outputs": [],
   "source": [
    "import numpy as np"
   ]
  },
  {
   "cell_type": "code",
   "execution_count": 15,
   "metadata": {},
   "outputs": [
    {
     "name": "stdout",
     "output_type": "stream",
     "text": [
      "[[0 0 1 0 0]\n",
      " [0 0 1 0 0]\n",
      " [1 1 1 1 1]\n",
      " [0 0 1 0 0]\n",
      " [0 0 1 0 0]]\n"
     ]
    }
   ],
   "source": [
    "image_matrix = np.matrix(\n",
    "    [\n",
    "        [0, 0, 1, 0, 0], \n",
    "        [0, 0, 1, 0, 0], \n",
    "        [1, 1, 1, 1, 1], \n",
    "        [0, 0, 1, 0, 0], \n",
    "        [0, 0, 1, 0, 0]\n",
    "    ]\n",
    ")\n",
    "print(image_matrix)"
   ]
  },
  {
   "cell_type": "code",
   "execution_count": 16,
   "metadata": {},
   "outputs": [
    {
     "name": "stdout",
     "output_type": "stream",
     "text": [
      "5\n",
      "5\n"
     ]
    }
   ],
   "source": [
    "# need to get no of rows and number of columns\n",
    "# .shape returns a tuple (r, c)\n",
    "rows = image_matrix.shape[0]\n",
    "cols = image_matrix.shape[1]\n",
    "\n",
    "print(rows)\n",
    "print(cols)"
   ]
  },
  {
   "cell_type": "code",
   "execution_count": 19,
   "metadata": {},
   "outputs": [
    {
     "name": "stdout",
     "output_type": "stream",
     "text": [
      "#------- BEFORE -------------------------#\n",
      "[[0 0 1 0 0]\n",
      " [0 0 1 0 0]\n",
      " [1 1 1 1 1]\n",
      " [0 0 1 0 0]\n",
      " [0 0 1 0 0]]\n",
      "#-------- AFTER ------------------------#\n",
      "[[1 1 0 1 1]\n",
      " [1 1 0 1 1]\n",
      " [0 0 0 0 0]\n",
      " [1 1 0 1 1]\n",
      " [1 1 0 1 1]]\n"
     ]
    }
   ],
   "source": [
    "print(\"#------- BEFORE -------------------------#\")\n",
    "image_matrix = np.matrix(\n",
    "    [\n",
    "        [0, 0, 1, 0, 0], \n",
    "        [0, 0, 1, 0, 0], \n",
    "        [1, 1, 1, 1, 1], \n",
    "        [0, 0, 1, 0, 0], \n",
    "        [0, 0, 1, 0, 0]\n",
    "    ]\n",
    ")\n",
    "print(image_matrix)\n",
    "print(\"#-------- AFTER ------------------------#\")\n",
    "for r in range(rows):                  # for r in range 0->no of rows \n",
    "    for c in range(cols):              # for c in range 0 -> cols\n",
    "        if image_matrix[r,c] == 0:\n",
    "            image_matrix[r,c] = 1\n",
    "        else:\n",
    "            image_matrix[r,c] = 0\n",
    "\n",
    "print(image_matrix)"
   ]
  },
  {
   "cell_type": "code",
   "execution_count": 24,
   "metadata": {
    "scrolled": true
   },
   "outputs": [
    {
     "name": "stdout",
     "output_type": "stream",
     "text": [
      "#------- BEFORE -------------------------#\n",
      "[[0 0 1 0 0]\n",
      " [0 0 1 0 0]\n",
      " [0 0 1 0 0]\n",
      " [0 0 1 0 0]\n",
      " [0 0 1 0 0]]\n",
      "#-------- AFTER ------------------------#\n",
      "[[1 1 0 1 1]\n",
      " [1 1 0 1 1]\n",
      " [1 1 0 1 1]\n",
      " [1 1 0 1 1]\n",
      " [1 1 0 1 1]]\n"
     ]
    }
   ],
   "source": [
    "print(\"#------- BEFORE -------------------------#\")\n",
    "one_matrix = np.matrix(\n",
    "    [\n",
    "        [0, 0, 1, 0, 0], \n",
    "        [0, 0, 1, 0, 0], \n",
    "        [0, 0, 1, 0, 0], \n",
    "        [0, 0, 1, 0, 0], \n",
    "        [0, 0, 1, 0, 0]\n",
    "    ]\n",
    ")\n",
    "rows = one_matrix.shape[0]\n",
    "cols = one_matrix.shape[1]\n",
    "\n",
    "print(one_matrix)\n",
    "print(\"#-------- AFTER ------------------------#\")\n",
    "\n",
    "for r in range(rows):                  # for r in range 0->no of rows \n",
    "    for c in range(cols):              # for c in range 0 -> cols\n",
    "        if one_matrix[r,c] == 0:\n",
    "            one_matrix[r,c] = 1\n",
    "        else:\n",
    "            one_matrix[r,c] = 0\n",
    "\n",
    "print(one_matrix)"
   ]
  },
  {
   "cell_type": "code",
   "execution_count": 25,
   "metadata": {},
   "outputs": [
    {
     "name": "stdout",
     "output_type": "stream",
     "text": [
      "#-------- TRANSPOSE ------------------------#\n",
      "[[1 1 1 1 1]\n",
      " [1 1 1 1 1]\n",
      " [0 0 0 0 0]\n",
      " [1 1 1 1 1]\n",
      " [1 1 1 1 1]]\n",
      "#-------- FLATTENED ------------------------#\n",
      "[[1 1 0 1 1 1 1 0 1 1 1 1 0 1 1 1 1 0 1 1 1 1 0 1 1]]\n"
     ]
    }
   ],
   "source": [
    "print(\"#-------- TRANSPOSE ------------------------#\")\n",
    "print(one_matrix.T)\n",
    "\n",
    "print(\"#-------- FLATTENED ------------------------#\")\n",
    "print(one_matrix.flatten())\n"
   ]
  },
  {
   "cell_type": "code",
   "execution_count": null,
   "metadata": {},
   "outputs": [],
   "source": []
  }
 ],
 "metadata": {
  "kernelspec": {
   "display_name": "Python 3",
   "language": "python",
   "name": "python3"
  },
  "language_info": {
   "codemirror_mode": {
    "name": "ipython",
    "version": 3
   },
   "file_extension": ".py",
   "mimetype": "text/x-python",
   "name": "python",
   "nbconvert_exporter": "python",
   "pygments_lexer": "ipython3",
   "version": "3.7.6"
  }
 },
 "nbformat": 4,
 "nbformat_minor": 4
}

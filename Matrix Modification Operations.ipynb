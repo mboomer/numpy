{
 "cells": [
  {
   "cell_type": "markdown",
   "metadata": {},
   "source": [
    "# Functions to modify elements or properties of a matrix"
   ]
  },
  {
   "cell_type": "code",
   "execution_count": 1,
   "metadata": {},
   "outputs": [],
   "source": [
    "import numpy as np"
   ]
  },
  {
   "cell_type": "code",
   "execution_count": 4,
   "metadata": {},
   "outputs": [
    {
     "name": "stdout",
     "output_type": "stream",
     "text": [
      "[[1 2]\n",
      " [3 4]]\n"
     ]
    }
   ],
   "source": [
    "# initialise the matrix\n",
    "a_matrix = np.matrix(\n",
    "                    [\n",
    "                        [1, 2], \n",
    "                        [3, 4]\n",
    "                    ]\n",
    ")\n",
    "print(a_matrix)"
   ]
  },
  {
   "cell_type": "code",
   "execution_count": 5,
   "metadata": {},
   "outputs": [
    {
     "name": "stdout",
     "output_type": "stream",
     "text": [
      "[[ 1  2]\n",
      " [10  4]]\n"
     ]
    }
   ],
   "source": [
    "a_matrix[1, 0] = 10                # changes 3 to 10\n",
    "print(a_matrix)"
   ]
  },
  {
   "cell_type": "code",
   "execution_count": 6,
   "metadata": {},
   "outputs": [
    {
     "name": "stdout",
     "output_type": "stream",
     "text": [
      "[[ 6  3]\n",
      " [10  4]]\n"
     ]
    }
   ],
   "source": [
    "a_matrix[0] = [6, 3]              # changes [1, 2] to [6, 3]\n",
    "print(a_matrix)"
   ]
  },
  {
   "cell_type": "code",
   "execution_count": 33,
   "metadata": {},
   "outputs": [
    {
     "name": "stdout",
     "output_type": "stream",
     "text": [
      "[[1 3]\n",
      " [2 4]]\n",
      "#--------------------------------#\n",
      "[[ 1  5  9 13]\n",
      " [ 2  6 10 14]\n",
      " [ 3  7 11 15]\n",
      " [ 4  8 12 16]]\n",
      "#--------------------------------#\n"
     ]
    }
   ],
   "source": [
    "# initialise the matrix again\n",
    "a_matrix = np.matrix(\n",
    "                    [\n",
    "                        [1, 2], \n",
    "                        [3, 4]\n",
    "                    ]\n",
    ")\n",
    "print(a_matrix.T)                        # swap rows and columns\n",
    "print (\"#--------------------------------#\")\n",
    "\n",
    "a_matrix = np.matrix(\n",
    "                    [\n",
    "                        [1, 2, 3, 4], \n",
    "                        [5, 6, 7, 8], \n",
    "                        [9, 10, 11, 12], \n",
    "                        [13, 14, 15, 16], \n",
    "                    ]\n",
    ")\n",
    "print(a_matrix.T)                        # swap rows and columns\n",
    "print(\"#--------------------------------#\")"
   ]
  },
  {
   "cell_type": "code",
   "execution_count": 10,
   "metadata": {},
   "outputs": [
    {
     "name": "stdout",
     "output_type": "stream",
     "text": [
      "[[ 1  2  3  4  5  6  7  8  9 10 11 12 13 14 15 16]]\n"
     ]
    }
   ],
   "source": [
    "print(a_matrix.flatten())              # create a single row of values from the rows and columns"
   ]
  },
  {
   "cell_type": "code",
   "execution_count": 13,
   "metadata": {},
   "outputs": [
    {
     "name": "stdout",
     "output_type": "stream",
     "text": [
      "[[ 2  4  6  8]\n",
      " [10 12 14 16]\n",
      " [18 20 22 24]\n",
      " [26 28 30 32]]\n",
      "#--------------------------------#\n",
      "[[ 2 10 18 26]\n",
      " [ 4 12 20 28]\n",
      " [ 6 14 22 30]\n",
      " [ 8 16 24 32]]\n"
     ]
    }
   ],
   "source": [
    "print(a_matrix * 2)                    # multiple each value by a factor of 2\n",
    "print(\"#--------------------------------#\")\n",
    "print(a_matrix.T * 2)                  # swap rows and columns and then multiple each value by a factor of 2"
   ]
  },
  {
   "cell_type": "code",
   "execution_count": 47,
   "metadata": {},
   "outputs": [
    {
     "name": "stdout",
     "output_type": "stream",
     "text": [
      "[[3 3]\n",
      " [7 7]]\n",
      "#----- Add matrix values -------------------------------#\n",
      "[[2 3]\n",
      " [4 5]]\n"
     ]
    }
   ],
   "source": [
    "x_matrix = [[1,2],[3,4]]                  # b1xa1 + b1*a2 (3) b2xa1 + b2*a2 (3) \n",
    "y_matrix = [[1,1],[1,1]]                  # b3xa3 + b1*a4 (7) b4xa3 + b4*a4 (7) \n",
    "z_matrix = np.matmul(x_matrix, y_matrix)\n",
    "print(z_matrix)\n",
    "print(\"#----- Add matrix values -------------------------------#\")\n",
    "z_matrix = np.add(x_matrix, y_matrix)\n",
    "print(z_matrix)\n"
   ]
  },
  {
   "cell_type": "code",
   "execution_count": 25,
   "metadata": {},
   "outputs": [
    {
     "name": "stdout",
     "output_type": "stream",
     "text": [
      "[[ 3  6]\n",
      " [ 7 14]]\n"
     ]
    }
   ],
   "source": [
    "x_matrix = [[1,2],[3,4]]                  # b1xa1 + b1*a2 (3) b2xa1 + b2*a2 (6) \n",
    "y_matrix = [[1,2],[1,2]]                  # b3xa3 + b1*a4 (7) b4xa3 + b4*a4 (14) \n",
    "z_matrix = np.matmul(x_matrix, y_matrix)\n",
    "print(z_matrix)"
   ]
  },
  {
   "cell_type": "code",
   "execution_count": 52,
   "metadata": {},
   "outputs": [
    {
     "name": "stdout",
     "output_type": "stream",
     "text": [
      "[[1 2 3 4]\n",
      " [2 3 4 5]\n",
      " [1 2 3 4]\n",
      " [2 3 4 5]]\n",
      "[[1 2 3 4]\n",
      " [1 2 3 4]\n",
      " [1 2 3 4]\n",
      " [1 2 3 4]]\n",
      "[[10 20 30 40]\n",
      " [14 28 42 56]\n",
      " [10 20 30 40]\n",
      " [14 28 42 56]]\n"
     ]
    }
   ],
   "source": [
    "d_matrix = np.matrix([\n",
    "                     [1, 2, 3, 4],[2, 3, 4, 5],[1, 2, 3, 4],[2, 3, 4, 5]\n",
    "                     ])  \n",
    "e_matrix = np.matrix([\n",
    "                     [1, 2, 3, 4],[1, 2, 3, 4],[1, 2, 3, 4],[1, 2, 3, 4]\n",
    "                     ])  \n",
    "# first row  1*1+1*2+1*3+1*4=10 2*1+2*2+2*3+2*4=20 3*1+3*2+3*3+3*4=30 4*1+4*4+1*4+1*4=40\n",
    "# second row 1*2+1*3+1*4+1*5=14 2*2+2*3+2*4+2*5=28 3*2+3*3+3*4+3*5=42 4*2+4*3+4*4+4*5=56\n",
    "# third row  1*1+1*2+1*3+1*4=10 2*1+2*2+2*3+2*4=20 3*1+3*2+3*3+3*4=30 4*1+4*4+1*4+1*4=40\n",
    "# fourth row 1*2+1*3+1*4+1*5=14 2*2+2*3+2*4+2*5=28 3*2+3*3+3*4+3*5=42 4*2+4*3+4*4+4*5=56\n",
    "\n",
    "print(d_matrix)\n",
    "print(e_matrix)\n",
    "f_matrix=np.matmul(d_matrix, e_matrix)\n",
    "print(f_matrix)"
   ]
  }
 ],
 "metadata": {
  "kernelspec": {
   "display_name": "Python 3",
   "language": "python",
   "name": "python3"
  },
  "language_info": {
   "codemirror_mode": {
    "name": "ipython",
    "version": 3
   },
   "file_extension": ".py",
   "mimetype": "text/x-python",
   "name": "python",
   "nbconvert_exporter": "python",
   "pygments_lexer": "ipython3",
   "version": "3.7.6"
  }
 },
 "nbformat": 4,
 "nbformat_minor": 4
}
